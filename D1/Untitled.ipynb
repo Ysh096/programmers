{
 "cells": [
  {
   "cell_type": "code",
   "execution_count": 15,
   "id": "solid-institution",
   "metadata": {},
   "outputs": [],
   "source": [
    "def solution(dartResult):\n",
    "    dartResult = list(dartResult)\n",
    "    L = len(dartResult)\n",
    "    for i in range(L):\n",
    "        try:\n",
    "            dartResult[i] = int(dartResult[i]) #정수는 int형으로 바꿔주기\n",
    "        except:\n",
    "            pass\n",
    "    \n",
    "    R_dartResult = []\n",
    "    k = 0\n",
    "    while k < len(dartResult):\n",
    "        if type(dartResult[k]) == int:\n",
    "            if type(dartResult[k+1]) == int:\n",
    "                R_dartResult.append(str(dartResult[k]) + str(dartResult[k+1]))\n",
    "                R_dartResult[-1] = int(R_dartResult[-1])\n",
    "                k += 2\n",
    "            else:\n",
    "                R_dartResult.append(dartResult[k])\n",
    "                k += 1\n",
    "        else:\n",
    "            R_dartResult.append(dartResult[k])\n",
    "            k += 1            \n",
    "    #1. 처음은 dartResult[0]으로 시작.\n",
    "    #2. 숫자를 만나거나 끝에 도달한 경우에 주의\n",
    "    #3. 숫자인 경우 초기화 및 이전 것 저장\n",
    "    answer = []\n",
    "    ans = R_dartResult[0] #ans = 10\n",
    "    i = 1\n",
    "    j = -1\n",
    "    while i < L: \n",
    "        val = R_dartResult[i]\n",
    "        if type(val) == int:\n",
    "            answer.append(ans)\n",
    "            ans = val\n",
    "            j += 1\n",
    "        elif val == \"S\":\n",
    "            ans = ans ** 1\n",
    "        elif val == \"D\":\n",
    "            ans = ans ** 2\n",
    "        elif val == \"T\":\n",
    "            ans = ans ** 3\n",
    "        elif val == \"*\":\n",
    "            ans = (ans) * 2\n",
    "            try:\n",
    "                answer[j] = answer[j] * 2\n",
    "            except:\n",
    "                pass\n",
    "        elif val == \"#\":\n",
    "            ans = ans * (-1)\n",
    "        i += 1\n",
    "    answer.append(ans)\n",
    "    return answer"
   ]
  },
  {
   "cell_type": "code",
   "execution_count": 16,
   "id": "center-duplicate",
   "metadata": {},
   "outputs": [
    {
     "data": {
      "text/plain": [
       "[10, 'S']"
      ]
     },
     "execution_count": 16,
     "metadata": {},
     "output_type": "execute_result"
    }
   ],
   "source": [
    "solution(\"10S\")"
   ]
  }
 ],
 "metadata": {
  "kernelspec": {
   "display_name": "Python 3",
   "language": "python",
   "name": "python3"
  },
  "language_info": {
   "codemirror_mode": {
    "name": "ipython",
    "version": 3
   },
   "file_extension": ".py",
   "mimetype": "text/x-python",
   "name": "python",
   "nbconvert_exporter": "python",
   "pygments_lexer": "ipython3",
   "version": "3.8.7"
  }
 },
 "nbformat": 4,
 "nbformat_minor": 5
}
