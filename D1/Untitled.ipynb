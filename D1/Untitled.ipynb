{
 "cells": [
  {
   "cell_type": "code",
   "execution_count": null,
   "id": "atomic-former",
   "metadata": {},
   "outputs": [],
   "source": [
    "def solution(N, stages):\n",
    "    step1 = []\n",
    "    prob = []\n",
    "    members = len(stages) #남은 사람 수\n",
    "    for i in range(1, N+1):\n",
    "        try:\n",
    "            prob.append(stages.count(i) / members) #실패율\n",
    "            members -= stages.count(i)\n",
    "        except:\n",
    "            continue\n",
    "    result = []\n",
    "    for idx, p in enumerate(prob):\n",
    "        result.append((p, idx+1))\n",
    "    result.sort(reverse = True)\n",
    "    pre_count = 0\n",
    "    count = 1\n",
    "    while count != len(result): # 1 != 5\n",
    "        while True:\n",
    "            if result[count-1][0] == result[count][0]:\n",
    "                count += 1 #count = 4\n",
    "                if count == len(result): # 4 == 4\n",
    "                    break\n",
    "            else:\n",
    "                result[pre_count:count] = result[pre_count:count:-1]\n",
    "                pre_count = count #pre_count = 1\n",
    "                count += 1        #count = 2\n",
    "                if count == len(result): #2 == 4\n",
    "                    break\n",
    "\n",
    "        result[pre_count:count] = result[pre_count:count:-1]\n",
    "        if count == len(result): #5 == 5\n",
    "            break\n",
    "            \n",
    "    return result"
   ]
  },
  {
   "cell_type": "code",
   "execution_count": 38,
   "id": "unnecessary-remainder",
   "metadata": {},
   "outputs": [],
   "source": [
    "import copy\n",
    "N = 5\n",
    "stages = [2, 1, 2, 6, 2, 4, 3, 3]\n",
    "#N = 4\n",
    "#stages = [4, 4, 4, 4, 4]\n",
    "step1 = []\n",
    "prob = []\n",
    "members = len(stages) #남은 사람 수"
   ]
  },
  {
   "cell_type": "code",
   "execution_count": 39,
   "id": "creative-publicity",
   "metadata": {},
   "outputs": [
    {
     "name": "stdout",
     "output_type": "stream",
     "text": [
      "[(0.5, 4), (0.5, 3), (0.42857142857142855, 2), (0.125, 1), (0.0, 5)]\n"
     ]
    }
   ],
   "source": [
    "for i in range(1, N+1):\n",
    "    try:\n",
    "        prob.append(stages.count(i) / members) #실패율\n",
    "        members -= stages.count(i)\n",
    "    except:\n",
    "        continue\n",
    "result = []\n",
    "for idx, p in enumerate(prob):\n",
    "    result.append((p, idx+1))\n",
    "result.sort(reverse = True)\n",
    "pre_count = 0\n",
    "count = 1\n",
    "result_copy = copy.deepcopy(result)\n",
    "result[0:2] = result[0:2:-1]\n",
    "print(result_copy)"
   ]
  },
  {
   "cell_type": "code",
   "execution_count": 26,
   "id": "under-liberal",
   "metadata": {},
   "outputs": [
    {
     "ename": "IndexError",
     "evalue": "list index out of range",
     "output_type": "error",
     "traceback": [
      "\u001b[1;31m---------------------------------------------------------------------------\u001b[0m",
      "\u001b[1;31mIndexError\u001b[0m                                Traceback (most recent call last)",
      "\u001b[1;32m<ipython-input-26-642d319ced19>\u001b[0m in \u001b[0;36m<module>\u001b[1;34m\u001b[0m\n\u001b[0;32m      1\u001b[0m \u001b[1;32mwhile\u001b[0m \u001b[0mcount\u001b[0m \u001b[1;33m!=\u001b[0m \u001b[0mlen\u001b[0m\u001b[1;33m(\u001b[0m\u001b[0mresult\u001b[0m\u001b[1;33m)\u001b[0m\u001b[1;33m:\u001b[0m \u001b[1;31m# 1 != 5\u001b[0m\u001b[1;33m\u001b[0m\u001b[1;33m\u001b[0m\u001b[0m\n\u001b[0;32m      2\u001b[0m     \u001b[1;32mwhile\u001b[0m \u001b[1;32mTrue\u001b[0m\u001b[1;33m:\u001b[0m\u001b[1;33m\u001b[0m\u001b[1;33m\u001b[0m\u001b[0m\n\u001b[1;32m----> 3\u001b[1;33m         \u001b[1;32mif\u001b[0m \u001b[0mresult\u001b[0m\u001b[1;33m[\u001b[0m\u001b[0mcount\u001b[0m\u001b[1;33m-\u001b[0m\u001b[1;36m1\u001b[0m\u001b[1;33m]\u001b[0m\u001b[1;33m[\u001b[0m\u001b[1;36m0\u001b[0m\u001b[1;33m]\u001b[0m \u001b[1;33m==\u001b[0m \u001b[0mresult\u001b[0m\u001b[1;33m[\u001b[0m\u001b[0mcount\u001b[0m\u001b[1;33m]\u001b[0m\u001b[1;33m[\u001b[0m\u001b[1;36m0\u001b[0m\u001b[1;33m]\u001b[0m\u001b[1;33m:\u001b[0m\u001b[1;33m\u001b[0m\u001b[1;33m\u001b[0m\u001b[0m\n\u001b[0m\u001b[0;32m      4\u001b[0m             \u001b[0mcount\u001b[0m \u001b[1;33m+=\u001b[0m \u001b[1;36m1\u001b[0m \u001b[1;31m#count = 2\u001b[0m\u001b[1;33m\u001b[0m\u001b[1;33m\u001b[0m\u001b[0m\n\u001b[0;32m      5\u001b[0m             \u001b[1;32mif\u001b[0m \u001b[0mcount\u001b[0m \u001b[1;33m==\u001b[0m \u001b[0mlen\u001b[0m\u001b[1;33m(\u001b[0m\u001b[0mresult\u001b[0m\u001b[1;33m)\u001b[0m\u001b[1;33m:\u001b[0m \u001b[1;31m# 2 == 5\u001b[0m\u001b[1;33m\u001b[0m\u001b[1;33m\u001b[0m\u001b[0m\n",
      "\u001b[1;31mIndexError\u001b[0m: list index out of range"
     ]
    }
   ],
   "source": [
    "while count != len(result): # 1 != 5\n",
    "    while True:\n",
    "        if result[count-1][0] == result[count][0]:\n",
    "            count += 1 #count = 2\n",
    "            if count == len(result): # 2 == 5\n",
    "                break\n",
    "        else:\n",
    "            result[pre_count:count] = result[pre_count:count:-1] #3:4\n",
    "            pre_count = count #pre_count = 4\n",
    "            count += 1        #count = 5\n",
    "            if count == len(result): #5 == 5\n",
    "                break\n",
    "\n",
    "    result[pre_count:count] = result[pre_count:count:-1]"
   ]
  },
  {
   "cell_type": "code",
   "execution_count": null,
   "id": "proved-liabilities",
   "metadata": {},
   "outputs": [],
   "source": []
  }
 ],
 "metadata": {
  "kernelspec": {
   "display_name": "Python 3",
   "language": "python",
   "name": "python3"
  },
  "language_info": {
   "codemirror_mode": {
    "name": "ipython",
    "version": 3
   },
   "file_extension": ".py",
   "mimetype": "text/x-python",
   "name": "python",
   "nbconvert_exporter": "python",
   "pygments_lexer": "ipython3",
   "version": "3.8.7"
  }
 },
 "nbformat": 4,
 "nbformat_minor": 5
}
